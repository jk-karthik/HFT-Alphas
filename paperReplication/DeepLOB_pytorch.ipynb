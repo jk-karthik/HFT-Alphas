{
 "cells": [
  {
   "cell_type": "code",
   "execution_count": 34,
   "id": "ecda2383-fe88-4152-ac60-e083eb816c96",
   "metadata": {},
   "outputs": [],
   "source": [
    "import torch\n",
    "import torch.nn.functional as F\n",
    "from torch.utils import data\n",
    "from torchinfo import summary\n",
    "import torch.nn as nn\n",
    "import torch.optim as optim\n",
    "import sys\n",
    "import pandas as pd\n",
    "import pickle\n",
    "import numpy as np\n",
    "from tqdm import tqdm\n",
    "from datetime import datetime\n",
    "import copy\n",
    "import matplotlib.pyplot as plt\n",
    "from sklearn.metrics import accuracy_score, classification_report"
   ]
  },
  {
   "cell_type": "code",
   "execution_count": 2,
   "id": "206deae1-2f61-401a-8bd6-a2218603b4e0",
   "metadata": {},
   "outputs": [
    {
     "name": "stdout",
     "output_type": "stream",
     "text": [
      "macOS-14.6-arm64-arm-64bit\n"
     ]
    }
   ],
   "source": [
    "import platform; print(platform.platform())"
   ]
  },
  {
   "cell_type": "code",
   "execution_count": 3,
   "id": "6ed53499-555f-4bee-87f8-0793cfbe1020",
   "metadata": {},
   "outputs": [],
   "source": [
    "def prepare_x(data):\n",
    "    df1 = data[:40, :].T\n",
    "    return np.array(df1)\n",
    "\n",
    "def get_label(data):\n",
    "    lob = data[-5:, :].T\n",
    "    return lob\n",
    "\n",
    "def data_classification(X, Y, T):\n",
    "    [N, D] = X.shape\n",
    "    # print(X.shape,T,N,Y.shape)\n",
    "    df = np.array(X)\n",
    "    print(df.shape)\n",
    "    dY = np.array(Y)\n",
    "\n",
    "    dataY = dY[T - 1:N]\n",
    "\n",
    "    dataX = np.zeros((N - T + 1, T, D))\n",
    "    for i in range(T, N + 1):\n",
    "        dataX[i - T] = df[i - T:i, :]\n",
    "\n",
    "    return dataX, dataY\n",
    "\n",
    "def torch_data(x, y):\n",
    "    x = torch.from_numpy(x)\n",
    "    x = torch.unsqueeze(x, 1)\n",
    "    y = torch.from_numpy(y)\n",
    "    y = F.one_hot(y, num_classes=3)\n",
    "    return x, y"
   ]
  },
  {
   "cell_type": "code",
   "execution_count": 4,
   "id": "89900fad-ad3e-4ccb-afb9-f6c1314ba66a",
   "metadata": {},
   "outputs": [],
   "source": [
    "class Dataset(data.Dataset):\n",
    "    \"\"\"Characterizes a dataset for PyTorch\"\"\"\n",
    "    def __init__(self, data, k, num_classes, T):\n",
    "        \"\"\"Initialization\"\"\" \n",
    "        self.k = k\n",
    "        self.num_classes = num_classes\n",
    "        self.T = T\n",
    "            \n",
    "        x = prepare_x(data)\n",
    "        y = get_label(data)\n",
    "        x, y = data_classification(x, y, self.T)\n",
    "        y = y[:,self.k] - 1\n",
    "        self.length = len(x)\n",
    "\n",
    "        x = torch.from_numpy(x)\n",
    "        self.x = torch.unsqueeze(x, 1)\n",
    "        self.y = torch.from_numpy(y)\n",
    "\n",
    "    def __len__(self):\n",
    "        \"\"\"Denotes the total number of samples\"\"\"\n",
    "        return self.length\n",
    "\n",
    "    def __getitem__(self, index):\n",
    "        \"\"\"Generates samples of data\"\"\"\n",
    "        return self.x[index], self.y[index]"
   ]
  },
  {
   "cell_type": "code",
   "execution_count": 5,
   "id": "559fb015-b20d-4ed1-834f-cbb06a18e895",
   "metadata": {},
   "outputs": [
    {
     "name": "stdout",
     "output_type": "stream",
     "text": [
      "tensor([1.], device='mps:0')\n"
     ]
    }
   ],
   "source": [
    "if torch.backends.mps.is_available():\n",
    "    mps_device = torch.device(\"mps\")\n",
    "    x = torch.ones(1, device=mps_device)\n",
    "    print (x)\n",
    "else:\n",
    "    print (\"MPS device not found.\")"
   ]
  },
  {
   "cell_type": "code",
   "execution_count": 6,
   "id": "249ad35c-0152-4f09-81bd-c2a0a2158957",
   "metadata": {},
   "outputs": [],
   "source": [
    "device = mps_device"
   ]
  },
  {
   "cell_type": "code",
   "execution_count": 7,
   "id": "9c08065a-79a3-42b1-8a31-bbc47e6c13bf",
   "metadata": {},
   "outputs": [
    {
     "data": {
      "text/plain": [
       "'torch.mps.FloatTensor'"
      ]
     },
     "execution_count": 7,
     "metadata": {},
     "output_type": "execute_result"
    }
   ],
   "source": [
    "x.type()"
   ]
  },
  {
   "cell_type": "code",
   "execution_count": 8,
   "id": "9cab5bae-6299-4fb7-8ae4-97af81f7bd9e",
   "metadata": {},
   "outputs": [
    {
     "name": "stdout",
     "output_type": "stream",
     "text": [
      "(149, 203800) (149, 50950) (149, 156516)\n"
     ]
    }
   ],
   "source": [
    "# please change the data_path to your local path\n",
    "# data_path = '/nfs/home/zihaoz/limit_order_book/data'\n",
    "\n",
    "dec_data = np.loadtxt('/Users/jandh/Downloads/data (1)/Train_Dst_NoAuction_DecPre_CF_7.txt')\n",
    "dec_train = dec_data[:, :int(np.floor(dec_data.shape[1] * 0.8))]\n",
    "dec_val = dec_data[:, int(np.floor(dec_data.shape[1] * 0.8)):]\n",
    "\n",
    "dec_test1 = np.loadtxt('/Users/jandh/Downloads/data (1)/Test_Dst_NoAuction_DecPre_CF_8.txt')\n",
    "dec_test2 = np.loadtxt('/Users/jandh/Downloads/data (1)/Test_Dst_NoAuction_DecPre_CF_8.txt')\n",
    "dec_test3 = np.loadtxt('/Users/jandh/Downloads/data (1)/Test_Dst_NoAuction_DecPre_CF_8.txt')\n",
    "dec_test = np.hstack((dec_test1, dec_test2, dec_test3))\n",
    "\n",
    "print(dec_train.shape, dec_val.shape, dec_test.shape)"
   ]
  },
  {
   "cell_type": "code",
   "execution_count": 9,
   "id": "843a0066-efb4-4a54-8b55-08a8e3fa1958",
   "metadata": {},
   "outputs": [
    {
     "data": {
      "text/plain": [
       "303.662128"
      ]
     },
     "execution_count": 9,
     "metadata": {},
     "output_type": "execute_result"
    }
   ],
   "source": [
    "sys.getsizeof(dec_data)/1000000"
   ]
  },
  {
   "cell_type": "code",
   "execution_count": 10,
   "id": "8cfec1e9-ddf8-43d2-8939-ee1360ebc763",
   "metadata": {},
   "outputs": [
    {
     "name": "stdout",
     "output_type": "stream",
     "text": [
      "(203800, 40)\n",
      "(50950, 40)\n",
      "(156516, 40)\n",
      "torch.Size([203701, 1, 100, 40]) torch.Size([203701])\n"
     ]
    }
   ],
   "source": [
    "batch_size = 64\n",
    "\n",
    "dataset_train = Dataset(data=dec_train, k=4, num_classes=3, T=100)\n",
    "dataset_val = Dataset(data=dec_val, k=4, num_classes=3, T=100)\n",
    "dataset_test = Dataset(data=dec_test, k=4, num_classes=3, T=100)\n",
    "\n",
    "train_loader = torch.utils.data.DataLoader(dataset=dataset_train, batch_size=batch_size, shuffle=True)\n",
    "val_loader = torch.utils.data.DataLoader(dataset=dataset_val, batch_size=batch_size, shuffle=False)\n",
    "test_loader = torch.utils.data.DataLoader(dataset=dataset_test, batch_size=batch_size, shuffle=False)\n",
    "\n",
    "print(dataset_train.x.shape, dataset_train.y.shape)"
   ]
  },
  {
   "cell_type": "code",
   "execution_count": 11,
   "id": "efcac255-ffbc-40aa-acb9-f4af728a5ba1",
   "metadata": {},
   "outputs": [
    {
     "name": "stdout",
     "output_type": "stream",
     "text": [
      "tensor([[[[0.1276, 0.0100, 0.1274,  ..., 0.0150, 0.1265, 0.0332],\n",
      "          [0.1276, 0.0100, 0.1274,  ..., 0.0150, 0.1265, 0.0332],\n",
      "          [0.1276, 0.0100, 0.1274,  ..., 0.0150, 0.1265, 0.0332],\n",
      "          ...,\n",
      "          [0.1272, 0.0052, 0.1270,  ..., 0.0146, 0.1261, 0.0464],\n",
      "          [0.1272, 0.0052, 0.1270,  ..., 0.0146, 0.1261, 0.0464],\n",
      "          [0.1272, 0.0052, 0.1271,  ..., 0.0146, 0.1262, 0.0025]]]],\n",
      "       dtype=torch.float64)\n",
      "tensor([0.], dtype=torch.float64)\n",
      "torch.Size([1, 1, 100, 40]) torch.Size([1])\n"
     ]
    }
   ],
   "source": [
    "tmp_loader = torch.utils.data.DataLoader(dataset=dataset_train, batch_size=1, shuffle=True)\n",
    "\n",
    "for x, y in tmp_loader:\n",
    "    print(x)\n",
    "    print(y)\n",
    "    print(x.shape, y.shape)\n",
    "    break"
   ]
  },
  {
   "cell_type": "code",
   "execution_count": 12,
   "id": "6795703c-50c2-4ed3-81c5-d1de9ceb344f",
   "metadata": {},
   "outputs": [],
   "source": [
    "# #CPU version\n",
    "# class deeplob(nn.Module):\n",
    "#     def __init__(self, y_len):\n",
    "#         super().__init__()\n",
    "#         self.y_len = y_len\n",
    "        \n",
    "#         # convolution blocks\n",
    "#         self.conv1 = nn.Sequential(\n",
    "#             nn.Conv2d(in_channels=1, out_channels=32, kernel_size=(1,2), stride=(1,2)),\n",
    "#             nn.LeakyReLU(negative_slope=0.01),\n",
    "# #             nn.Tanh(),\n",
    "#             nn.BatchNorm2d(32),\n",
    "#             nn.Conv2d(in_channels=32, out_channels=32, kernel_size=(4,1)),\n",
    "#             nn.LeakyReLU(negative_slope=0.01),\n",
    "#             nn.BatchNorm2d(32),\n",
    "#             nn.Conv2d(in_channels=32, out_channels=32, kernel_size=(4,1)),\n",
    "#             nn.LeakyReLU(negative_slope=0.01),\n",
    "#             nn.BatchNorm2d(32),\n",
    "#         )\n",
    "#         self.conv2 = nn.Sequential(\n",
    "#             nn.Conv2d(in_channels=32, out_channels=32, kernel_size=(1,2), stride=(1,2)),\n",
    "#             nn.Tanh(),\n",
    "#             nn.BatchNorm2d(32),\n",
    "#             nn.Conv2d(in_channels=32, out_channels=32, kernel_size=(4,1)),\n",
    "#             nn.Tanh(),\n",
    "#             nn.BatchNorm2d(32),\n",
    "#             nn.Conv2d(in_channels=32, out_channels=32, kernel_size=(4,1)),\n",
    "#             nn.Tanh(),\n",
    "#             nn.BatchNorm2d(32),\n",
    "#         )\n",
    "#         self.conv3 = nn.Sequential(\n",
    "#             nn.Conv2d(in_channels=32, out_channels=32, kernel_size=(1,10)),\n",
    "#             nn.LeakyReLU(negative_slope=0.01),\n",
    "#             nn.BatchNorm2d(32),\n",
    "#             nn.Conv2d(in_channels=32, out_channels=32, kernel_size=(4,1)),\n",
    "#             nn.LeakyReLU(negative_slope=0.01),\n",
    "#             nn.BatchNorm2d(32),\n",
    "#             nn.Conv2d(in_channels=32, out_channels=32, kernel_size=(4,1)),\n",
    "#             nn.LeakyReLU(negative_slope=0.01),\n",
    "#             nn.BatchNorm2d(32),\n",
    "#         )\n",
    "        \n",
    "#         # inception moduels\n",
    "#         self.inp1 = nn.Sequential(\n",
    "#             nn.Conv2d(in_channels=32, out_channels=64, kernel_size=(1,1), padding='same'),\n",
    "#             nn.LeakyReLU(negative_slope=0.01),\n",
    "#             nn.BatchNorm2d(64),\n",
    "#             nn.Conv2d(in_channels=64, out_channels=64, kernel_size=(3,1), padding='same'),\n",
    "#             nn.LeakyReLU(negative_slope=0.01),\n",
    "#             nn.BatchNorm2d(64),\n",
    "#         )\n",
    "#         self.inp2 = nn.Sequential(\n",
    "#             nn.Conv2d(in_channels=32, out_channels=64, kernel_size=(1,1), padding='same'),\n",
    "#             nn.LeakyReLU(negative_slope=0.01),\n",
    "#             nn.BatchNorm2d(64),\n",
    "#             nn.Conv2d(in_channels=64, out_channels=64, kernel_size=(5,1), padding='same'),\n",
    "#             nn.LeakyReLU(negative_slope=0.01),\n",
    "#             nn.BatchNorm2d(64),\n",
    "#         )\n",
    "#         self.inp3 = nn.Sequential(\n",
    "#             nn.MaxPool2d((3, 1), stride=(1, 1), padding=(1, 0)),\n",
    "#             nn.Conv2d(in_channels=32, out_channels=64, kernel_size=(1,1), padding='same'),\n",
    "#             nn.LeakyReLU(negative_slope=0.01),\n",
    "#             nn.BatchNorm2d(64),\n",
    "#         )\n",
    "        \n",
    "#         # lstm layers\n",
    "#         self.lstm = nn.LSTM(input_size=192, hidden_size=64, num_layers=1, batch_first=True)\n",
    "#         self.fc1 = nn.Linear(64, self.y_len)\n",
    "\n",
    "#     def forward(self, x):\n",
    "#         # h0: (number of hidden layers, batch size, hidden size)\n",
    "#         h0 = torch.zeros(1, x.size(0), 64).to(device)\n",
    "#         c0 = torch.zeros(1, x.size(0), 64).to(device)\n",
    "    \n",
    "#         x = self.conv1(x)\n",
    "#         x = self.conv2(x)\n",
    "#         x = self.conv3(x)\n",
    "        \n",
    "#         x_inp1 = self.inp1(x)\n",
    "#         x_inp2 = self.inp2(x)\n",
    "#         x_inp3 = self.inp3(x)  \n",
    "        \n",
    "#         x = torch.cat((x_inp1, x_inp2, x_inp3), dim=1)\n",
    "        \n",
    "# #         x = torch.transpose(x, 1, 2)\n",
    "#         x = x.permute(0, 2, 1, 3)\n",
    "#         x = torch.reshape(x, (-1, x.shape[1], x.shape[2]))\n",
    "        \n",
    "#         x, _ = self.lstm(x, (h0, c0))\n",
    "#         x = x[:, -1, :]\n",
    "#         x = self.fc1(x)\n",
    "#         forecast_y = torch.softmax(x, dim=1)\n",
    "        \n",
    "#         return forecast_y"
   ]
  },
  {
   "cell_type": "code",
   "execution_count": 13,
   "id": "9d1d2d82-7239-4a69-bc8b-8377b4625b28",
   "metadata": {},
   "outputs": [],
   "source": [
    "class deeplob(nn.Module):\n",
    "    def __init__(self, y_len):\n",
    "        super().__init__()\n",
    "        self.y_len = y_len\n",
    "        \n",
    "        # convolution blocks\n",
    "        self.conv1 = nn.Sequential(\n",
    "            nn.Conv2d(in_channels=1, out_channels=32, kernel_size=(1,2), stride=(1,2)),\n",
    "            nn.LeakyReLU(negative_slope=0.01),\n",
    "#             nn.Tanh(),\n",
    "            nn.BatchNorm2d(32),\n",
    "            nn.Conv2d(in_channels=32, out_channels=32, kernel_size=(4,1)),\n",
    "            nn.LeakyReLU(negative_slope=0.01),\n",
    "            nn.BatchNorm2d(32),\n",
    "            nn.Conv2d(in_channels=32, out_channels=32, kernel_size=(4,1)),\n",
    "            nn.LeakyReLU(negative_slope=0.01),\n",
    "            nn.BatchNorm2d(32),\n",
    "        )\n",
    "        self.conv2 = nn.Sequential(\n",
    "            nn.Conv2d(in_channels=32, out_channels=32, kernel_size=(1,2), stride=(1,2)),\n",
    "            nn.Tanh(),\n",
    "            nn.BatchNorm2d(32),\n",
    "            nn.Conv2d(in_channels=32, out_channels=32, kernel_size=(4,1)),\n",
    "            nn.Tanh(),\n",
    "            nn.BatchNorm2d(32),\n",
    "            nn.Conv2d(in_channels=32, out_channels=32, kernel_size=(4,1)),\n",
    "            nn.Tanh(),\n",
    "            nn.BatchNorm2d(32),\n",
    "        )\n",
    "        self.conv3 = nn.Sequential(\n",
    "            nn.Conv2d(in_channels=32, out_channels=32, kernel_size=(1,10)),\n",
    "            nn.LeakyReLU(negative_slope=0.01),\n",
    "            nn.BatchNorm2d(32),\n",
    "            nn.Conv2d(in_channels=32, out_channels=32, kernel_size=(4,1)),\n",
    "            nn.LeakyReLU(negative_slope=0.01),\n",
    "            nn.BatchNorm2d(32),\n",
    "            nn.Conv2d(in_channels=32, out_channels=32, kernel_size=(4,1)),\n",
    "            nn.LeakyReLU(negative_slope=0.01),\n",
    "            nn.BatchNorm2d(32),\n",
    "        )\n",
    "        \n",
    "        # inception moduels\n",
    "        self.inp1 = nn.Sequential(\n",
    "            nn.Conv2d(in_channels=32, out_channels=64, kernel_size=(1,1), padding='same'),\n",
    "            nn.LeakyReLU(negative_slope=0.01),\n",
    "            nn.BatchNorm2d(64),\n",
    "            nn.Conv2d(in_channels=64, out_channels=64, kernel_size=(3,1), padding='same'),\n",
    "            nn.LeakyReLU(negative_slope=0.01),\n",
    "            nn.BatchNorm2d(64),\n",
    "        )\n",
    "        self.inp2 = nn.Sequential(\n",
    "            nn.Conv2d(in_channels=32, out_channels=64, kernel_size=(1,1), padding='same'),\n",
    "            nn.LeakyReLU(negative_slope=0.01),\n",
    "            nn.BatchNorm2d(64),\n",
    "            nn.Conv2d(in_channels=64, out_channels=64, kernel_size=(5,1), padding='same'),\n",
    "            nn.LeakyReLU(negative_slope=0.01),\n",
    "            nn.BatchNorm2d(64),\n",
    "        )\n",
    "        self.inp3 = nn.Sequential(\n",
    "            nn.MaxPool2d((3, 1), stride=(1, 1), padding=(1, 0)),\n",
    "            nn.Conv2d(in_channels=32, out_channels=64, kernel_size=(1,1), padding='same'),\n",
    "            nn.LeakyReLU(negative_slope=0.01),\n",
    "            nn.BatchNorm2d(64),\n",
    "        )\n",
    "        \n",
    "        # lstm layers\n",
    "        self.lstm = nn.LSTM(input_size=192, hidden_size=64, num_layers=1, batch_first=True)\n",
    "        self.fc1 = nn.Linear(64, self.y_len)\n",
    "\n",
    "    def forward(self, x):\n",
    "        # h0: (number of hidden layers, batch size, hidden size)\n",
    "        h0 = torch.zeros(1, x.size(0), 64).to(device)\n",
    "        c0 = torch.zeros(1, x.size(0), 64).to(device)\n",
    "    \n",
    "        x = self.conv1(x)\n",
    "        x = self.conv2(x)\n",
    "        x = self.conv3(x)\n",
    "        \n",
    "        x_inp1 = self.inp1(x)\n",
    "        x_inp2 = self.inp2(x)\n",
    "        x_inp3 = self.inp3(x)  \n",
    "        \n",
    "        x = torch.cat((x_inp1, x_inp2, x_inp3), dim=1)\n",
    "        \n",
    "#         x = torch.transpose(x, 1, 2)\n",
    "        x = x.permute(0, 2, 1, 3).contiguous()\n",
    "        x = torch.reshape(x, (-1, x.shape[1], x.shape[2]))\n",
    "        \n",
    "        x, _ = self.lstm(x, (h0, c0))\n",
    "        x = x[:, -1, :]\n",
    "        x = self.fc1(x)\n",
    "        forecast_y = torch.softmax(x, dim=1)\n",
    "        \n",
    "        return forecast_y"
   ]
  },
  {
   "cell_type": "code",
   "execution_count": 14,
   "id": "c58654e3-97b9-4e23-86fa-1bd53d4e5d57",
   "metadata": {},
   "outputs": [],
   "source": [
    "# # testing gradiant flows for CPU and GPU\n",
    "\n",
    "# model = deeplob(y_len = dataset_train.num_classes)\n",
    "# model2 = deeplob(y_len = dataset_train.num_classes)\n",
    "# model2.load_state_dict(model.state_dict())\n",
    "# # print(torch.allclose(model.weight, model2.weight))\n",
    "\n",
    "# criterion = nn.CrossEntropyLoss()\n",
    "# optimizer = torch.optim.Adam(model.parameters(), lr=0.0001)\n",
    "# optimizer2 = torch.optim.Adam(model2.parameters(), lr=0.0001)\n",
    "\n",
    "# data_iter = iter(train_loader)\n",
    "# inputs , targets = next(data_iter)\n",
    "# device = 'cpu'\n",
    "# # print(inputs)\n",
    "#  # = train_loader.next()\n",
    "# optimizer.zero_grad()\n",
    "# outputs = model(inputs.to(torch.float))\n",
    "# loss = criterion(outputs, targets.to(dtype=torch.int64))\n",
    "# print(loss)\n",
    "# loss.backward()\n",
    "# optimizer.step()\n",
    "\n",
    "# print(model.inp3[1].weight.grad.max())\n",
    "\n",
    "# for name, param in model.lstm.named_parameters():\n",
    "#     if 'weight' in name:\n",
    "#         print(name, param.grad.max()) \n",
    "\n",
    "# for name, param in model2.lstm.named_parameters():\n",
    "#     if 'weight' in name:\n",
    "#         print(name, param.grad.max()) \n",
    "\n",
    "# print(model2.inp3[1].weight.grad.max())\n",
    "\n",
    "# device = mps_device\n",
    "# model2.to(mps_device)\n",
    "# # inputs , targets = next(data_iter)\n",
    "# optimizer2.zero_grad()\n",
    "# outputs2 = model2(inputs.to(mps_device,dtype = torch.float32))\n",
    "# loss2 = criterion(outputs2, targets.to(mps_device,dtype=torch.int64))\n",
    "# print(loss2)\n",
    "# loss2.backward()\n",
    "# optimizer2.step()\n",
    "\n",
    "# def compare_models(model_1, model_2):\n",
    "#     models_differ = 0\n",
    "#     for key_item_1, key_item_2 in zip(model_1.state_dict().items(), model_2.state_dict().items()):\n",
    "#         if torch.equal(key_item_1[1], key_item_2[1]):\n",
    "#             pass\n",
    "#         else:\n",
    "#             models_differ += 1\n",
    "#             if (key_item_1[0] == key_item_2[0]):\n",
    "#                 print('Mismtach found at', key_item_1[0])\n",
    "#             else:\n",
    "#                 raise Exception\n",
    "#     if models_differ == 0:\n",
    "#         print('Models match perfectly! :)')"
   ]
  },
  {
   "cell_type": "code",
   "execution_count": 15,
   "id": "fd972476-5ae8-4a60-bf91-99f5b8a48aa7",
   "metadata": {},
   "outputs": [],
   "source": [
    "model = deeplob(y_len = dataset_train.num_classes)\n",
    "model.to(mps_device)\n",
    "device = mps_device"
   ]
  },
  {
   "cell_type": "code",
   "execution_count": 16,
   "id": "4e70c1c4-cadc-442b-aef7-0ef4043b7f02",
   "metadata": {},
   "outputs": [],
   "source": [
    "criterion = nn.CrossEntropyLoss()\n",
    "optimizer = torch.optim.Adam(model.parameters(), lr=0.0001)\n",
    "state_dict = None"
   ]
  },
  {
   "cell_type": "code",
   "execution_count": 17,
   "id": "02997c39-7b93-4139-917a-3bc6603b95a3",
   "metadata": {},
   "outputs": [],
   "source": [
    "def batch_gd(model, criterion, optimizer, train_loader, test_loader, epochs):\n",
    "    global state_dict\n",
    "    train_losses = np.zeros(epochs)\n",
    "    test_losses = np.zeros(epochs)\n",
    "    best_test_loss = np.inf\n",
    "    best_test_epoch = 0\n",
    "\n",
    "    for it in tqdm(range(epochs)):\n",
    "        \n",
    "        model.train()\n",
    "        t0 = datetime.now()\n",
    "        train_loss = []\n",
    "        for inputs, targets in train_loader:\n",
    "            # move data to GPU\n",
    "            inputs, targets = inputs.to(device, dtype=torch.float), targets.to(device, dtype=torch.int64)\n",
    "            # print(\"inputs.shape:\", inputs.shape)\n",
    "            # zero the parameter gradients\n",
    "            optimizer.zero_grad()\n",
    "            # Forward pass\n",
    "            # print(\"about to get model output\")\n",
    "            outputs = model(inputs)\n",
    "            # print(\"done getting model output\")\n",
    "            # print(\"outputs.shape:\", outputs.shape, \"targets.shape:\", targets.shape)\n",
    "            loss = criterion(outputs, targets)\n",
    "            # Backward and optimize\n",
    "            # print(\"about to optimize\")\n",
    "            loss.backward()\n",
    "            optimizer.step()\n",
    "            train_loss.append(loss.item())\n",
    "        # Get train loss and test loss\n",
    "        train_loss = np.mean(train_loss) # a little misleading\n",
    "    \n",
    "        model.eval()\n",
    "        test_loss = []\n",
    "        for inputs, targets in test_loader:\n",
    "            inputs, targets = inputs.to(device, dtype=torch.float), targets.to(device, dtype=torch.int64)      \n",
    "            outputs = model(inputs)\n",
    "            loss = criterion(outputs, targets)\n",
    "            test_loss.append(loss.item())\n",
    "        test_loss = np.mean(test_loss)\n",
    "\n",
    "        # Save losses\n",
    "        train_losses[it] = train_loss\n",
    "        test_losses[it] = test_loss\n",
    "        \n",
    "        if test_loss < best_test_loss:\n",
    "            # state_dict = copy.deepcopy(model.state_dict())\n",
    "            torch.save(model, '/Users/jandh/Desktop/Old Desktop/od/1 quater/Project Lab/best_val_model_pytorch')\n",
    "            best_test_loss = test_loss\n",
    "            best_test_epoch = it\n",
    "            print('model saved')\n",
    "\n",
    "        dt = datetime.now() - t0\n",
    "        print(dt)\n",
    "        print(f'Epoch {it+1}/{epochs}, Train Loss: {train_loss:.4f}, \\\n",
    "          Validation Loss: {test_loss:.4f}, Duration: {dt}, Best Val Epoch: {best_test_epoch}')\n",
    "\n",
    "    return train_losses, test_losses"
   ]
  },
  {
   "cell_type": "code",
   "execution_count": 18,
   "id": "c4f24214-10b5-4593-812c-98d51c562716",
   "metadata": {},
   "outputs": [],
   "source": [
    "# import multiprocessing\n",
    "# multiprocessing.set_start_method(\"fork\")"
   ]
  },
  {
   "cell_type": "code",
   "execution_count": 19,
   "id": "064c0899-fce7-4c0b-99d2-cda789fdc5e8",
   "metadata": {
    "scrolled": true
   },
   "outputs": [
    {
     "name": "stderr",
     "output_type": "stream",
     "text": [
      "  2%|▊                                        | 1/50 [02:59<2:26:29, 179.37s/it]"
     ]
    },
    {
     "name": "stdout",
     "output_type": "stream",
     "text": [
      "model saved\n",
      "0:02:59.369835\n",
      "Epoch 1/50, Train Loss: 0.9309,           Validation Loss: 1.0139, Duration: 0:02:59.369835, Best Val Epoch: 0\n"
     ]
    },
    {
     "name": "stderr",
     "output_type": "stream",
     "text": [
      "  4%|█▌                                     | 2/50 [36:13<16:37:24, 1246.76s/it]"
     ]
    },
    {
     "name": "stdout",
     "output_type": "stream",
     "text": [
      "model saved\n",
      "0:33:13.927446\n",
      "Epoch 2/50, Train Loss: 0.8378,           Validation Loss: 0.9866, Duration: 0:33:13.927446, Best Val Epoch: 1\n"
     ]
    },
    {
     "name": "stderr",
     "output_type": "stream",
     "text": [
      "  6%|██▎                                    | 3/50 [53:57<15:11:26, 1163.53s/it]"
     ]
    },
    {
     "name": "stdout",
     "output_type": "stream",
     "text": [
      "model saved\n",
      "0:17:44.491916\n",
      "Epoch 3/50, Train Loss: 0.8092,           Validation Loss: 0.9567, Duration: 0:17:44.491916, Best Val Epoch: 2\n"
     ]
    },
    {
     "name": "stderr",
     "output_type": "stream",
     "text": [
      "  8%|███▎                                     | 4/50 [55:44<9:32:16, 746.45s/it]"
     ]
    },
    {
     "name": "stdout",
     "output_type": "stream",
     "text": [
      "model saved\n",
      "0:01:47.069941\n",
      "Epoch 4/50, Train Loss: 0.7891,           Validation Loss: 0.9467, Duration: 0:01:47.069941, Best Val Epoch: 3\n"
     ]
    },
    {
     "name": "stderr",
     "output_type": "stream",
     "text": [
      " 10%|████                                     | 5/50 [58:05<6:36:00, 528.02s/it]"
     ]
    },
    {
     "name": "stdout",
     "output_type": "stream",
     "text": [
      "model saved\n",
      "0:02:20.719337\n",
      "Epoch 5/50, Train Loss: 0.7738,           Validation Loss: 0.9295, Duration: 0:02:20.719337, Best Val Epoch: 4\n"
     ]
    },
    {
     "name": "stderr",
     "output_type": "stream",
     "text": [
      " 12%|████▋                                  | 6/50 [1:00:45<4:55:19, 402.72s/it]"
     ]
    },
    {
     "name": "stdout",
     "output_type": "stream",
     "text": [
      "model saved\n",
      "0:02:39.481361\n",
      "Epoch 6/50, Train Loss: 0.7621,           Validation Loss: 0.9223, Duration: 0:02:39.481361, Best Val Epoch: 5\n"
     ]
    },
    {
     "name": "stderr",
     "output_type": "stream",
     "text": [
      " 14%|█████▍                                 | 7/50 [1:03:35<3:54:15, 326.87s/it]"
     ]
    },
    {
     "name": "stdout",
     "output_type": "stream",
     "text": [
      "model saved\n",
      "0:02:50.703306\n",
      "Epoch 7/50, Train Loss: 0.7522,           Validation Loss: 0.9095, Duration: 0:02:50.703306, Best Val Epoch: 6\n"
     ]
    },
    {
     "name": "stderr",
     "output_type": "stream",
     "text": [
      " 16%|██████▏                                | 8/50 [1:06:44<3:18:04, 282.97s/it]"
     ]
    },
    {
     "name": "stdout",
     "output_type": "stream",
     "text": [
      "0:03:08.966588\n",
      "Epoch 8/50, Train Loss: 0.7429,           Validation Loss: 0.9180, Duration: 0:03:08.966588, Best Val Epoch: 6\n"
     ]
    },
    {
     "name": "stderr",
     "output_type": "stream",
     "text": [
      " 18%|███████                                | 9/50 [1:09:52<2:52:55, 253.05s/it]"
     ]
    },
    {
     "name": "stdout",
     "output_type": "stream",
     "text": [
      "0:03:07.268492\n",
      "Epoch 9/50, Train Loss: 0.7353,           Validation Loss: 0.9176, Duration: 0:03:07.268492, Best Val Epoch: 6\n"
     ]
    },
    {
     "name": "stderr",
     "output_type": "stream",
     "text": [
      " 20%|███████▌                              | 10/50 [1:13:02<2:35:51, 233.79s/it]"
     ]
    },
    {
     "name": "stdout",
     "output_type": "stream",
     "text": [
      "model saved\n",
      "0:03:10.651055\n",
      "Epoch 10/50, Train Loss: 0.7285,           Validation Loss: 0.9077, Duration: 0:03:10.651055, Best Val Epoch: 9\n"
     ]
    },
    {
     "name": "stderr",
     "output_type": "stream",
     "text": [
      " 22%|████████▎                             | 11/50 [1:16:18<2:24:29, 222.28s/it]"
     ]
    },
    {
     "name": "stdout",
     "output_type": "stream",
     "text": [
      "model saved\n",
      "0:03:16.199977\n",
      "Epoch 11/50, Train Loss: 0.7228,           Validation Loss: 0.8969, Duration: 0:03:16.199977, Best Val Epoch: 10\n"
     ]
    },
    {
     "name": "stderr",
     "output_type": "stream",
     "text": [
      " 24%|█████████                             | 12/50 [1:19:32<2:15:10, 213.43s/it]"
     ]
    },
    {
     "name": "stdout",
     "output_type": "stream",
     "text": [
      "0:03:13.187558\n",
      "Epoch 12/50, Train Loss: 0.7177,           Validation Loss: 0.8974, Duration: 0:03:13.187558, Best Val Epoch: 10\n"
     ]
    },
    {
     "name": "stderr",
     "output_type": "stream",
     "text": [
      " 26%|█████████▉                            | 13/50 [1:22:53<2:09:23, 209.81s/it]"
     ]
    },
    {
     "name": "stdout",
     "output_type": "stream",
     "text": [
      "0:03:21.478249\n",
      "Epoch 13/50, Train Loss: 0.7130,           Validation Loss: 0.9038, Duration: 0:03:21.478249, Best Val Epoch: 10\n"
     ]
    },
    {
     "name": "stderr",
     "output_type": "stream",
     "text": [
      " 28%|██████████▋                           | 14/50 [1:26:10<2:03:38, 206.07s/it]"
     ]
    },
    {
     "name": "stdout",
     "output_type": "stream",
     "text": [
      "0:03:17.416703\n",
      "Epoch 14/50, Train Loss: 0.7094,           Validation Loss: 0.9094, Duration: 0:03:17.416703, Best Val Epoch: 10\n"
     ]
    },
    {
     "name": "stderr",
     "output_type": "stream",
     "text": [
      " 30%|███████████▍                          | 15/50 [1:29:28<1:58:38, 203.38s/it]"
     ]
    },
    {
     "name": "stdout",
     "output_type": "stream",
     "text": [
      "0:03:17.145062\n",
      "Epoch 15/50, Train Loss: 0.7050,           Validation Loss: 0.9089, Duration: 0:03:17.145062, Best Val Epoch: 10\n"
     ]
    },
    {
     "name": "stderr",
     "output_type": "stream",
     "text": [
      " 32%|████████████▏                         | 16/50 [1:32:48<1:54:48, 202.62s/it]"
     ]
    },
    {
     "name": "stdout",
     "output_type": "stream",
     "text": [
      "0:03:20.845745\n",
      "Epoch 16/50, Train Loss: 0.7018,           Validation Loss: 0.8989, Duration: 0:03:20.845745, Best Val Epoch: 10\n"
     ]
    },
    {
     "name": "stderr",
     "output_type": "stream",
     "text": [
      " 34%|████████████▉                         | 17/50 [1:36:11<1:51:27, 202.64s/it]"
     ]
    },
    {
     "name": "stdout",
     "output_type": "stream",
     "text": [
      "0:03:22.678289\n",
      "Epoch 17/50, Train Loss: 0.6987,           Validation Loss: 0.8983, Duration: 0:03:22.678289, Best Val Epoch: 10\n"
     ]
    },
    {
     "name": "stderr",
     "output_type": "stream",
     "text": [
      " 36%|█████████████▋                        | 18/50 [1:39:36<1:48:23, 203.22s/it]"
     ]
    },
    {
     "name": "stdout",
     "output_type": "stream",
     "text": [
      "model saved\n",
      "0:03:24.581245\n",
      "Epoch 18/50, Train Loss: 0.6959,           Validation Loss: 0.8954, Duration: 0:03:24.581245, Best Val Epoch: 17\n"
     ]
    },
    {
     "name": "stderr",
     "output_type": "stream",
     "text": [
      " 38%|██████████████▍                       | 19/50 [1:42:53<1:44:06, 201.50s/it]"
     ]
    },
    {
     "name": "stdout",
     "output_type": "stream",
     "text": [
      "0:03:17.492115\n",
      "Epoch 19/50, Train Loss: 0.6936,           Validation Loss: 0.9140, Duration: 0:03:17.492115, Best Val Epoch: 17\n"
     ]
    },
    {
     "name": "stderr",
     "output_type": "stream",
     "text": [
      " 40%|███████████████▏                      | 20/50 [1:46:14<1:40:35, 201.18s/it]"
     ]
    },
    {
     "name": "stdout",
     "output_type": "stream",
     "text": [
      "0:03:20.443460\n",
      "Epoch 20/50, Train Loss: 0.6911,           Validation Loss: 0.9070, Duration: 0:03:20.443460, Best Val Epoch: 17\n"
     ]
    },
    {
     "name": "stderr",
     "output_type": "stream",
     "text": [
      " 42%|███████████████▉                      | 21/50 [1:49:38<1:37:40, 202.07s/it]"
     ]
    },
    {
     "name": "stdout",
     "output_type": "stream",
     "text": [
      "0:03:24.131198\n",
      "Epoch 21/50, Train Loss: 0.6880,           Validation Loss: 0.9047, Duration: 0:03:24.131198, Best Val Epoch: 17\n"
     ]
    },
    {
     "name": "stderr",
     "output_type": "stream",
     "text": [
      " 44%|████████████████▋                     | 22/50 [1:52:57<1:33:50, 201.08s/it]"
     ]
    },
    {
     "name": "stdout",
     "output_type": "stream",
     "text": [
      "0:03:18.767922\n",
      "Epoch 22/50, Train Loss: 0.6859,           Validation Loss: 0.9009, Duration: 0:03:18.767922, Best Val Epoch: 17\n"
     ]
    },
    {
     "name": "stderr",
     "output_type": "stream",
     "text": [
      " 46%|█████████████████▍                    | 23/50 [1:56:21<1:30:55, 202.05s/it]"
     ]
    },
    {
     "name": "stdout",
     "output_type": "stream",
     "text": [
      "0:03:24.307255\n",
      "Epoch 23/50, Train Loss: 0.6834,           Validation Loss: 0.9099, Duration: 0:03:24.307255, Best Val Epoch: 17\n"
     ]
    },
    {
     "name": "stderr",
     "output_type": "stream",
     "text": [
      " 48%|██████████████████▏                   | 24/50 [1:59:44<1:27:39, 202.30s/it]"
     ]
    },
    {
     "name": "stdout",
     "output_type": "stream",
     "text": [
      "0:03:22.896365\n",
      "Epoch 24/50, Train Loss: 0.6812,           Validation Loss: 0.9082, Duration: 0:03:22.896365, Best Val Epoch: 17\n"
     ]
    },
    {
     "name": "stderr",
     "output_type": "stream",
     "text": [
      " 50%|███████████████████                   | 25/50 [2:03:03<1:23:51, 201.27s/it]"
     ]
    },
    {
     "name": "stdout",
     "output_type": "stream",
     "text": [
      "0:03:18.863766\n",
      "Epoch 25/50, Train Loss: 0.6798,           Validation Loss: 0.9048, Duration: 0:03:18.863766, Best Val Epoch: 17\n"
     ]
    },
    {
     "name": "stderr",
     "output_type": "stream",
     "text": [
      " 52%|███████████████████▊                  | 26/50 [2:06:28<1:20:57, 202.40s/it]"
     ]
    },
    {
     "name": "stdout",
     "output_type": "stream",
     "text": [
      "0:03:25.033107\n",
      "Epoch 26/50, Train Loss: 0.6786,           Validation Loss: 0.9094, Duration: 0:03:25.033107, Best Val Epoch: 17\n"
     ]
    },
    {
     "name": "stderr",
     "output_type": "stream",
     "text": [
      " 54%|████████████████████▌                 | 27/50 [2:14:49<1:51:59, 292.14s/it]"
     ]
    },
    {
     "name": "stdout",
     "output_type": "stream",
     "text": [
      "0:08:21.496058\n",
      "Epoch 27/50, Train Loss: 0.6766,           Validation Loss: 0.9047, Duration: 0:08:21.496058, Best Val Epoch: 17\n"
     ]
    },
    {
     "name": "stderr",
     "output_type": "stream",
     "text": [
      " 56%|█████████████████████▎                | 28/50 [2:16:57<1:29:00, 242.77s/it]"
     ]
    },
    {
     "name": "stdout",
     "output_type": "stream",
     "text": [
      "0:02:07.572302\n",
      "Epoch 28/50, Train Loss: 0.6751,           Validation Loss: 0.9125, Duration: 0:02:07.572302, Best Val Epoch: 17\n"
     ]
    },
    {
     "name": "stderr",
     "output_type": "stream",
     "text": [
      " 58%|██████████████████████                | 29/50 [2:20:15<1:20:19, 229.52s/it]"
     ]
    },
    {
     "name": "stdout",
     "output_type": "stream",
     "text": [
      "0:03:18.603223\n",
      "Epoch 29/50, Train Loss: 0.6728,           Validation Loss: 0.9067, Duration: 0:03:18.603223, Best Val Epoch: 17\n"
     ]
    },
    {
     "name": "stderr",
     "output_type": "stream",
     "text": [
      " 60%|██████████████████████▊               | 30/50 [2:23:35<1:13:34, 220.70s/it]"
     ]
    },
    {
     "name": "stdout",
     "output_type": "stream",
     "text": [
      "0:03:20.135480\n",
      "Epoch 30/50, Train Loss: 0.6714,           Validation Loss: 0.9054, Duration: 0:03:20.135480, Best Val Epoch: 17\n"
     ]
    },
    {
     "name": "stderr",
     "output_type": "stream",
     "text": [
      " 62%|███████████████████████▌              | 31/50 [2:26:48<1:07:14, 212.32s/it]"
     ]
    },
    {
     "name": "stdout",
     "output_type": "stream",
     "text": [
      "0:03:12.766508\n",
      "Epoch 31/50, Train Loss: 0.6706,           Validation Loss: 0.9080, Duration: 0:03:12.766508, Best Val Epoch: 17\n"
     ]
    },
    {
     "name": "stderr",
     "output_type": "stream",
     "text": [
      " 64%|████████████████████████▎             | 32/50 [2:30:02<1:02:02, 206.78s/it]"
     ]
    },
    {
     "name": "stdout",
     "output_type": "stream",
     "text": [
      "0:03:13.838944\n",
      "Epoch 32/50, Train Loss: 0.6693,           Validation Loss: 0.9110, Duration: 0:03:13.838944, Best Val Epoch: 17\n"
     ]
    },
    {
     "name": "stderr",
     "output_type": "stream",
     "text": [
      " 66%|██████████████████████████▍             | 33/50 [2:33:20<57:49, 204.10s/it]"
     ]
    },
    {
     "name": "stdout",
     "output_type": "stream",
     "text": [
      "0:03:17.835536\n",
      "Epoch 33/50, Train Loss: 0.6682,           Validation Loss: 0.9022, Duration: 0:03:17.835536, Best Val Epoch: 17\n"
     ]
    },
    {
     "name": "stderr",
     "output_type": "stream",
     "text": [
      " 68%|███████████████████████████▏            | 34/50 [2:36:34<53:36, 201.05s/it]"
     ]
    },
    {
     "name": "stdout",
     "output_type": "stream",
     "text": [
      "0:03:13.933777\n",
      "Epoch 34/50, Train Loss: 0.6666,           Validation Loss: 0.9086, Duration: 0:03:13.933777, Best Val Epoch: 17\n"
     ]
    },
    {
     "name": "stderr",
     "output_type": "stream",
     "text": [
      " 70%|████████████████████████████            | 35/50 [2:40:02<50:46, 203.11s/it]"
     ]
    },
    {
     "name": "stdout",
     "output_type": "stream",
     "text": [
      "0:03:27.919189\n",
      "Epoch 35/50, Train Loss: 0.6649,           Validation Loss: 0.9094, Duration: 0:03:27.919189, Best Val Epoch: 17\n"
     ]
    },
    {
     "name": "stderr",
     "output_type": "stream",
     "text": [
      " 72%|████████████████████████████▊           | 36/50 [2:43:20<47:01, 201.52s/it]"
     ]
    },
    {
     "name": "stdout",
     "output_type": "stream",
     "text": [
      "0:03:17.801060\n",
      "Epoch 36/50, Train Loss: 0.6646,           Validation Loss: 0.9079, Duration: 0:03:17.801060, Best Val Epoch: 17\n"
     ]
    },
    {
     "name": "stderr",
     "output_type": "stream",
     "text": [
      " 74%|█████████████████████████████▌          | 37/50 [2:46:38<43:27, 200.57s/it]"
     ]
    },
    {
     "name": "stdout",
     "output_type": "stream",
     "text": [
      "0:03:18.339220\n",
      "Epoch 37/50, Train Loss: 0.6625,           Validation Loss: 0.9096, Duration: 0:03:18.339220, Best Val Epoch: 17\n"
     ]
    },
    {
     "name": "stderr",
     "output_type": "stream",
     "text": [
      " 76%|██████████████████████████████▍         | 38/50 [2:50:02<40:20, 201.69s/it]"
     ]
    },
    {
     "name": "stdout",
     "output_type": "stream",
     "text": [
      "0:03:24.313945\n",
      "Epoch 38/50, Train Loss: 0.6622,           Validation Loss: 0.9132, Duration: 0:03:24.313945, Best Val Epoch: 17\n"
     ]
    },
    {
     "name": "stderr",
     "output_type": "stream",
     "text": [
      " 78%|███████████████████████████████▏        | 39/50 [2:53:30<37:18, 203.49s/it]"
     ]
    },
    {
     "name": "stdout",
     "output_type": "stream",
     "text": [
      "0:03:27.698083\n",
      "Epoch 39/50, Train Loss: 0.6606,           Validation Loss: 0.9128, Duration: 0:03:27.698083, Best Val Epoch: 17\n"
     ]
    },
    {
     "name": "stderr",
     "output_type": "stream",
     "text": [
      " 80%|████████████████████████████████        | 40/50 [2:56:56<34:03, 204.35s/it]"
     ]
    },
    {
     "name": "stdout",
     "output_type": "stream",
     "text": [
      "0:03:26.340506\n",
      "Epoch 40/50, Train Loss: 0.6597,           Validation Loss: 0.9135, Duration: 0:03:26.340506, Best Val Epoch: 17\n"
     ]
    },
    {
     "name": "stderr",
     "output_type": "stream",
     "text": [
      " 82%|████████████████████████████████▊       | 41/50 [3:00:21<30:40, 204.55s/it]"
     ]
    },
    {
     "name": "stdout",
     "output_type": "stream",
     "text": [
      "0:03:25.019465\n",
      "Epoch 41/50, Train Loss: 0.6584,           Validation Loss: 0.9106, Duration: 0:03:25.019465, Best Val Epoch: 17\n"
     ]
    },
    {
     "name": "stderr",
     "output_type": "stream",
     "text": [
      " 84%|█████████████████████████████████▌      | 42/50 [3:03:42<27:06, 203.33s/it]"
     ]
    },
    {
     "name": "stdout",
     "output_type": "stream",
     "text": [
      "0:03:20.490916\n",
      "Epoch 42/50, Train Loss: 0.6578,           Validation Loss: 0.9174, Duration: 0:03:20.490916, Best Val Epoch: 17\n"
     ]
    },
    {
     "name": "stderr",
     "output_type": "stream",
     "text": [
      " 86%|██████████████████████████████████▍     | 43/50 [3:06:58<23:28, 201.22s/it]"
     ]
    },
    {
     "name": "stdout",
     "output_type": "stream",
     "text": [
      "0:03:16.268017\n",
      "Epoch 43/50, Train Loss: 0.6571,           Validation Loss: 0.9114, Duration: 0:03:16.268017, Best Val Epoch: 17\n"
     ]
    },
    {
     "name": "stderr",
     "output_type": "stream",
     "text": [
      " 88%|███████████████████████████████████▏    | 44/50 [3:10:31<20:27, 204.64s/it]"
     ]
    },
    {
     "name": "stdout",
     "output_type": "stream",
     "text": [
      "0:03:32.631454\n",
      "Epoch 44/50, Train Loss: 0.6563,           Validation Loss: 0.9171, Duration: 0:03:32.631454, Best Val Epoch: 17\n"
     ]
    },
    {
     "name": "stderr",
     "output_type": "stream",
     "text": [
      " 90%|████████████████████████████████████    | 45/50 [3:13:50<16:55, 203.15s/it]"
     ]
    },
    {
     "name": "stdout",
     "output_type": "stream",
     "text": [
      "0:03:19.664555\n",
      "Epoch 45/50, Train Loss: 0.6557,           Validation Loss: 0.9153, Duration: 0:03:19.664555, Best Val Epoch: 17\n"
     ]
    },
    {
     "name": "stderr",
     "output_type": "stream",
     "text": [
      " 92%|████████████████████████████████████▊   | 46/50 [3:17:16<13:36, 204.03s/it]"
     ]
    },
    {
     "name": "stdout",
     "output_type": "stream",
     "text": [
      "0:03:26.066500\n",
      "Epoch 46/50, Train Loss: 0.6548,           Validation Loss: 0.9149, Duration: 0:03:26.066500, Best Val Epoch: 17\n"
     ]
    },
    {
     "name": "stderr",
     "output_type": "stream",
     "text": [
      " 94%|█████████████████████████████████████▌  | 47/50 [3:20:45<10:16, 205.41s/it]"
     ]
    },
    {
     "name": "stdout",
     "output_type": "stream",
     "text": [
      "0:03:28.631349\n",
      "Epoch 47/50, Train Loss: 0.6539,           Validation Loss: 0.9090, Duration: 0:03:28.631349, Best Val Epoch: 17\n"
     ]
    },
    {
     "name": "stderr",
     "output_type": "stream",
     "text": [
      " 96%|██████████████████████████████████████▍ | 48/50 [3:23:58<06:43, 201.55s/it]"
     ]
    },
    {
     "name": "stdout",
     "output_type": "stream",
     "text": [
      "0:03:12.560456\n",
      "Epoch 48/50, Train Loss: 0.6529,           Validation Loss: 0.9129, Duration: 0:03:12.560456, Best Val Epoch: 17\n"
     ]
    },
    {
     "name": "stderr",
     "output_type": "stream",
     "text": [
      " 98%|███████████████████████████████████████▏| 49/50 [3:27:02<03:16, 196.45s/it]"
     ]
    },
    {
     "name": "stdout",
     "output_type": "stream",
     "text": [
      "0:03:04.530532\n",
      "Epoch 49/50, Train Loss: 0.6522,           Validation Loss: 0.9066, Duration: 0:03:04.530532, Best Val Epoch: 17\n"
     ]
    },
    {
     "name": "stderr",
     "output_type": "stream",
     "text": [
      "100%|████████████████████████████████████████| 50/50 [3:30:09<00:00, 252.18s/it]"
     ]
    },
    {
     "name": "stdout",
     "output_type": "stream",
     "text": [
      "0:03:06.364955\n",
      "Epoch 50/50, Train Loss: 0.6516,           Validation Loss: 0.9113, Duration: 0:03:06.364955, Best Val Epoch: 17\n"
     ]
    },
    {
     "name": "stderr",
     "output_type": "stream",
     "text": [
      "\n"
     ]
    }
   ],
   "source": [
    "train_losses, val_losses = batch_gd(model, criterion, optimizer, \n",
    "                                    train_loader, val_loader, epochs=50)"
   ]
  },
  {
   "cell_type": "code",
   "execution_count": 20,
   "id": "9f47a61d-797a-4e61-a021-6f2d937cb157",
   "metadata": {},
   "outputs": [
    {
     "name": "stdout",
     "output_type": "stream",
     "text": [
      "[0.93093095 0.83776069 0.80920504 0.78910695 0.77382254 0.76214061\n",
      " 0.75219157 0.74287189 0.73526348 0.72854619 0.72283292 0.71770586\n",
      " 0.71298178 0.70938897 0.70495707 0.70183109 0.69865748 0.69589203\n",
      " 0.69356334 0.69114647 0.68799215 0.68588215 0.68341167 0.68117793\n",
      " 0.67981741 0.67856626 0.67657444 0.67510226 0.67278343 0.67135176\n",
      " 0.67060535 0.66925408 0.66816197 0.66660362 0.66493018 0.66456361\n",
      " 0.66254729 0.66221397 0.66063586 0.65972054 0.65842114 0.65782859\n",
      " 0.65711623 0.65625063 0.65567259 0.65481501 0.65385798 0.65290727\n",
      " 0.65219235 0.65159853]\n"
     ]
    }
   ],
   "source": [
    "print(train_losses)"
   ]
  },
  {
   "cell_type": "code",
   "execution_count": 30,
   "id": "cbf7c6d3-c38b-4281-81aa-a9c38a148789",
   "metadata": {},
   "outputs": [],
   "source": [
    "# import pickle\n",
    "# with open('/Users/jandh/Desktop/Old Desktop/od/1 quater/Project Lab/train_losses.pkl', 'wb') as f:\n",
    "#     pickle.dump(train_losses, f)\n",
    "# with open('/Users/jandh/Desktop/Old Desktop/od/1 quater/Project Lab/val_losses.pkl', 'wb') as f:\n",
    "#     pickle.dump(val_losses, f)"
   ]
  },
  {
   "cell_type": "code",
   "execution_count": 33,
   "id": "a42d4ad7-d220-4bac-b43f-67b8fea8cd10",
   "metadata": {},
   "outputs": [
    {
     "data": {
      "text/plain": [
       "<matplotlib.legend.Legend at 0x6c9066b10>"
      ]
     },
     "execution_count": 33,
     "metadata": {},
     "output_type": "execute_result"
    },
    {
     "data": {
      "image/png": "[encoded data removed]",
      "text/plain": [
       "<Figure size 1500x600 with 1 Axes>"
      ]
     },
     "metadata": {},
     "output_type": "display_data"
    }
   ],
   "source": [
    "plt.figure(figsize=(15,6))\n",
    "plt.plot(train_losses, label='train loss')\n",
    "plt.plot(val_losses, label='validation loss')\n",
    "plt.legend()"
   ]
  },
  {
   "cell_type": "markdown",
   "id": "7b3ea8e1-d83e-40d6-8c5f-5a3b17a17140",
   "metadata": {},
   "source": [
    "## Model_Testing"
   ]
  },
  {
   "cell_type": "code",
   "execution_count": 23,
   "id": "80b3fbfd-e6d1-4a71-a119-a572fb3be494",
   "metadata": {},
   "outputs": [
    {
     "name": "stderr",
     "output_type": "stream",
     "text": [
      "/var/folders/vf/gw1t6f4j3mv84kp8kpw4j_bw0000gn/T/ipykernel_2491/1323947167.py:1: FutureWarning: You are using `torch.load` with `weights_only=False` (the current default value), which uses the default pickle module implicitly. It is possible to construct malicious pickle data which will execute arbitrary code during unpickling (See https://github.com/pytorch/pytorch/blob/main/SECURITY.md#untrusted-models for more details). In a future release, the default value for `weights_only` will be flipped to `True`. This limits the functions that could be executed during unpickling. Arbitrary objects will no longer be allowed to be loaded via this mode unless they are explicitly allowlisted by the user via `torch.serialization.add_safe_globals`. We recommend you start setting `weights_only=True` for any use case where you don't have full control of the loaded file. Please open an issue on GitHub for any issues related to this experimental feature.\n",
      "  model = torch.load('/Users/jandh/Desktop/Old Desktop/od/1 quater/Project Lab/best_val_model_pytorch')\n"
     ]
    },
    {
     "name": "stdout",
     "output_type": "stream",
     "text": [
      "Test acc: 0.7334\n"
     ]
    }
   ],
   "source": [
    "model = torch.load('/Users/jandh/Desktop/Old Desktop/od/1 quater/Project Lab/best_val_model_pytorch')\n",
    "\n",
    "n_correct = 0.\n",
    "n_total = 0.\n",
    "for inputs, targets in test_loader:\n",
    "    # Move to GPU\n",
    "    inputs, targets = inputs.to(device, dtype=torch.float), targets.to(device, dtype=torch.int64)\n",
    "\n",
    "    # Forward pass\n",
    "    outputs = model(inputs)\n",
    "    \n",
    "    # Get prediction\n",
    "    # torch.max returns both max and argmax\n",
    "    _, predictions = torch.max(outputs, 1)\n",
    "\n",
    "    # update counts\n",
    "    n_correct += (predictions == targets).sum().item()\n",
    "    n_total += targets.shape[0]\n",
    "\n",
    "test_acc = n_correct / n_total\n",
    "print(f\"Test acc: {test_acc:.4f}\")"
   ]
  },
  {
   "cell_type": "code",
   "execution_count": 24,
   "id": "7bbf95d9-a74c-45a4-b3ee-f00b22aa9458",
   "metadata": {},
   "outputs": [],
   "source": [
    "all_targets = []\n",
    "all_predictions = []\n",
    "\n",
    "for inputs, targets in test_loader:\n",
    "    # Move to GPU\n",
    "    inputs, targets = inputs.to(device, dtype=torch.float), targets.to(device, dtype=torch.int64)\n",
    "\n",
    "    # Forward pass\n",
    "    outputs = model(inputs)\n",
    "    \n",
    "    # Get prediction\n",
    "    # torch.max returns both max and argmax\n",
    "    _, predictions = torch.max(outputs, 1)\n",
    "\n",
    "    all_targets.append(targets.cpu().numpy())\n",
    "    all_predictions.append(predictions.cpu().numpy())\n",
    "\n",
    "all_targets = np.concatenate(all_targets)    \n",
    "all_predictions = np.concatenate(all_predictions)   "
   ]
  },
  {
   "cell_type": "code",
   "execution_count": 27,
   "id": "98898dc7-0d31-4a0d-b84b-dbda6a05b6e5",
   "metadata": {},
   "outputs": [
    {
     "name": "stdout",
     "output_type": "stream",
     "text": [
      "accuracy_score: 0.7334369026384601\n",
      "              precision    recall  f1-score   support\n",
      "\n",
      "           0     0.6764    0.7627    0.7170     51924\n",
      "           1     0.8279    0.7104    0.7647     53532\n",
      "           2     0.7142    0.7278    0.7209     50961\n",
      "\n",
      "    accuracy                         0.7334    156417\n",
      "   macro avg     0.7395    0.7336    0.7342    156417\n",
      "weighted avg     0.7406    0.7334    0.7346    156417\n",
      "\n"
     ]
    }
   ],
   "source": [
    "print('accuracy_score:', accuracy_score(all_targets, all_predictions))\n",
    "print(classification_report(all_targets, all_predictions, digits=4))"
   ]
  },
  {
   "cell_type": "code",
   "execution_count": null,
   "id": "231bd82d-e659-48bc-8754-056ec2f41979",
   "metadata": {},
   "outputs": [],
   "source": []
  }
 ],
 "metadata": {
  "kernelspec": {
   "display_name": "Python 3 (ipykernel)",
   "language": "python",
   "name": "python3"
  },
  "language_info": {
   "codemirror_mode": {
    "name": "ipython",
    "version": 3
   },
   "file_extension": ".py",
   "mimetype": "text/x-python",
   "name": "python",
   "nbconvert_exporter": "python",
   "pygments_lexer": "ipython3",
   "version": "3.12.2"
  }
 },
 "nbformat": 4,
 "nbformat_minor": 5
}
